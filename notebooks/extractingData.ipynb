{
 "cells": [
  {
   "cell_type": "markdown",
   "metadata": {},
   "source": [
    "# Extracting data from relational databases\n",
    "## SQLite Database\n",
    "\n",
    "### import package"
   ]
  },
  {
   "cell_type": "code",
   "execution_count": 1,
   "metadata": {},
   "outputs": [],
   "source": [
    "#import sqlite3 package\n",
    "import sqlite3"
   ]
  },
  {
   "cell_type": "code",
   "execution_count": 2,
   "metadata": {},
   "outputs": [],
   "source": [
    "# create a connection to a databse : create the database if not available\n",
    "connection = sqlite3.connect(\"classroom.db\")\n",
    "connection.close()"
   ]
  },
  {
   "cell_type": "code",
   "execution_count": 3,
   "metadata": {},
   "outputs": [
    {
     "ename": "OperationalError",
     "evalue": "table classroom already exists",
     "output_type": "error",
     "traceback": [
      "\u001b[0;31m---------------------------------------------------------------------------\u001b[0m",
      "\u001b[0;31mOperationalError\u001b[0m                          Traceback (most recent call last)",
      "\u001b[0;32m<ipython-input-3-99459d935bcc>\u001b[0m in \u001b[0;36m<module>\u001b[0;34m\u001b[0m\n\u001b[1;32m     12\u001b[0m                 \u001b[0mmathematics_marks\u001b[0m \u001b[0mINTEGER\u001b[0m\u001b[0;34m\u001b[0m\u001b[0;34m\u001b[0m\u001b[0m\n\u001b[1;32m     13\u001b[0m                 );\"\"\"\n\u001b[0;32m---> 14\u001b[0;31m \u001b[0mcursor\u001b[0m\u001b[0;34m.\u001b[0m\u001b[0mexecute\u001b[0m\u001b[0;34m(\u001b[0m\u001b[0mcreate_table\u001b[0m\u001b[0;34m)\u001b[0m\u001b[0;34m\u001b[0m\u001b[0;34m\u001b[0m\u001b[0m\n\u001b[0m\u001b[1;32m     15\u001b[0m \u001b[0mconnection\u001b[0m\u001b[0;34m.\u001b[0m\u001b[0mcommit\u001b[0m\u001b[0;34m(\u001b[0m\u001b[0;34m)\u001b[0m\u001b[0;34m\u001b[0m\u001b[0;34m\u001b[0m\u001b[0m\n\u001b[1;32m     16\u001b[0m \u001b[0mconnection\u001b[0m\u001b[0;34m.\u001b[0m\u001b[0mclose\u001b[0m\u001b[0;34m(\u001b[0m\u001b[0;34m)\u001b[0m\u001b[0;34m\u001b[0m\u001b[0;34m\u001b[0m\u001b[0m\n",
      "\u001b[0;31mOperationalError\u001b[0m: table classroom already exists"
     ]
    }
   ],
   "source": [
    "#open connection\n",
    "connection = sqlite3.connect(\"classroom.db\")\n",
    "#open cursor\n",
    "cursor = connection.cursor()\n",
    "create_table = \"\"\"\n",
    "                CREATE TABLE classroom (\n",
    "                student_id INTEGER PRIMARY KEY,\n",
    "                name VARCHAR(20),\n",
    "                gender CHAR(1),\n",
    "                physcis_marks INTEGER,\n",
    "                chemistry_marks INTEGER,\n",
    "                mathematics_marks INTEGER\n",
    "                );\"\"\"\n",
    "cursor.execute(create_table)\n",
    "connection.commit()\n",
    "connection.close()"
   ]
  },
  {
   "cell_type": "code",
   "execution_count": 4,
   "metadata": {},
   "outputs": [],
   "source": [
    "classroom_data = [(1, \"Raj\", \"M\", 70, 84, 92),\n",
    "                  (2, \"Poonam\", \"F\", 87, 69, 93),\n",
    "                  (3, \"Nik\", \"M\", 65, 83, 90),\n",
    "                  (4, \"Rahul\", \"M\", 83, 76, 89)]\n",
    "\n",
    "connection = sqlite3.connect(\"classroom.db\")\n",
    "cursor = connection.cursor()\n",
    "\n",
    "for student in classroom_data:\n",
    "    insert_statment = \"\"\"INSERT INTO classroom\n",
    "                        (student_id, name, gender, physcis_marks, chemistry_marks, mathematics_marks)\n",
    "                        VALUES\n",
    "                        ({0}, \"{1}\", \"{2}\", {3}, {4}, {5});\"\"\".format(student[0], student[1], student[2], \n",
    "                                                                      student[3], student[4], student[5])\n",
    "    cursor.execute(insert_statment)\n",
    "connection.commit()\n",
    "connection.close()\n",
    "        \n"
   ]
  },
  {
   "cell_type": "code",
   "execution_count": 5,
   "metadata": {},
   "outputs": [
    {
     "name": "stdout",
     "output_type": "stream",
     "text": [
      "(1, 'Raj', 'M', 70, 84, 92)\n",
      "(2, 'Poonam', 'F', 87, 69, 93)\n",
      "(3, 'Nik', 'M', 65, 83, 90)\n",
      "(4, 'Rahul', 'M', 83, 76, 89)\n"
     ]
    }
   ],
   "source": [
    "connection = sqlite3.connect(\"classroom.db\")\n",
    "cursor = connection.cursor()\n",
    "query = \"SELECT * FROM classroom\"\n",
    "cursor.execute(query)\n",
    "result = cursor.fetchall()\n",
    "\n",
    "for row in result:\n",
    "    print(row)\n",
    "\n",
    "connection.close()"
   ]
  },
  {
   "cell_type": "markdown",
   "metadata": {},
   "source": [
    "### MySQL Database\n",
    "#### install package"
   ]
  },
  {
   "cell_type": "code",
   "execution_count": 15,
   "metadata": {},
   "outputs": [
    {
     "name": "stdout",
     "output_type": "stream",
     "text": [
      "Collecting package metadata (current_repodata.json): ...working... done\n",
      "Solving environment: ...working... done\n",
      "\n",
      "## Package Plan ##\n",
      "\n",
      "  environment location: /opt/conda\n",
      "\n",
      "  added / updated specs:\n",
      "    - pymysql\n",
      "\n",
      "\n",
      "The following packages will be downloaded:\n",
      "\n",
      "    package                    |            build\n",
      "    ---------------------------|-----------------\n",
      "    pymysql-0.9.3              |             py_0          41 KB  conda-forge\n",
      "    ------------------------------------------------------------\n",
      "                                           Total:          41 KB\n",
      "\n",
      "The following NEW packages will be INSTALLED:\n",
      "\n",
      "  pymysql            conda-forge/noarch::pymysql-0.9.3-py_0\n",
      "\n",
      "\n",
      "Preparing transaction: ...working... done\n",
      "Verifying transaction: ...working... done\n",
      "Executing transaction: ...working... done\n"
     ]
    }
   ],
   "source": [
    "!conda install -y -q pymysql"
   ]
  },
  {
   "cell_type": "markdown",
   "metadata": {},
   "source": [
    "#### import package"
   ]
  },
  {
   "cell_type": "code",
   "execution_count": 16,
   "metadata": {},
   "outputs": [],
   "source": [
    "import pymysql"
   ]
  },
  {
   "cell_type": "code",
   "execution_count": 17,
   "metadata": {},
   "outputs": [
    {
     "name": "stdout",
     "output_type": "stream",
     "text": [
      "Collecting package metadata (current_repodata.json): ...working... done\n",
      "Solving environment: ...working... done\n",
      "\n",
      "## Package Plan ##\n",
      "\n",
      "  environment location: /opt/conda\n",
      "\n",
      "  added / updated specs:\n",
      "    - pymssql\n",
      "\n",
      "\n",
      "The following packages will be downloaded:\n",
      "\n",
      "    package                    |            build\n",
      "    ---------------------------|-----------------\n",
      "    freetds-1.00.97            |       h1ba5d50_0         1.4 MB\n",
      "    pymssql-2.1.4              |py27hf484d3e_2001         240 KB  conda-forge\n",
      "    ------------------------------------------------------------\n",
      "                                           Total:         1.6 MB\n",
      "\n",
      "The following NEW packages will be INSTALLED:\n",
      "\n",
      "  freetds            pkgs/main/linux-64::freetds-1.00.97-h1ba5d50_0\n",
      "  pymssql            conda-forge/linux-64::pymssql-2.1.4-py27hf484d3e_2001\n",
      "\n",
      "\n",
      "Preparing transaction: ...working... done\n",
      "Verifying transaction: ...working... done\n",
      "Executing transaction: ...working... done\n"
     ]
    }
   ],
   "source": [
    "!conda install -y -q pymssql"
   ]
  },
  {
   "cell_type": "code",
   "execution_count": null,
   "metadata": {},
   "outputs": [],
   "source": [
    "import pymssql"
   ]
  },
  {
   "cell_type": "code",
   "execution_count": null,
   "metadata": {},
   "outputs": [],
   "source": [
    "cnx = {\n",
    "    'host': 'hostname:1433',\n",
    "    'username': '',\n",
    "    'password': '',\n",
    "    'db': ''}\n",
    "conn = pymssql.connect(cnx['host'], cnx['username'], cnx['password'], cnx['db'])\n",
    "conn.close()"
   ]
  },
  {
   "cell_type": "code",
   "execution_count": null,
   "metadata": {},
   "outputs": [],
   "source": [
    "connection = pymssql.connect(cnx['host'], cnx['username'], cnx['password'], cnx['db'])\n",
    "cursor = connection.cursor()\n",
    "create_table = \"\"\"\n",
    "                CREATE TABLE classroom (\n",
    "                student_id INTEGER PRIMARY KEY,\n",
    "                name VARCHAR(20),\n",
    "                gender CHAR(1),\n",
    "                physcis_marks INTEGER,\n",
    "                chemistry_marks INTEGER,\n",
    "                mathematics_marks INTEGER\n",
    "                );\"\"\"\n",
    "cursor.execute(create_table)\n",
    "connection.commit()\n",
    "connection.close()"
   ]
  },
  {
   "cell_type": "code",
   "execution_count": null,
   "metadata": {},
   "outputs": [],
   "source": [
    "classroom_data = [(1, \"Raj\", \"M\", 70, 84, 92),\n",
    "                  (2, \"Poonam\", \"F\", 87, 69, 93),\n",
    "                  (3, \"Nik\", \"M\", 65, 83, 90),\n",
    "                  (4, \"Rahul\", \"M\", 83, 76, 89)]\n",
    "\n",
    "connection = pymssql.connect(cnx['host'], cnx['username'], cnx['password'], cnx['db'])\n",
    "cursor = connection.cursor()\n",
    "\n",
    "for student in classroom_data:\n",
    "    insert_statment = \"\"\"INSERT INTO classroom\n",
    "                        (student_id, name, gender, physcis_marks, chemistry_marks, mathematics_marks)\n",
    "                        VALUES\n",
    "                        ({0}, '{1}', '{2}', {3}, {4}, {5});\"\"\".format(student[0], student[1], student[2], \n",
    "                                                                      student[3], student[4], student[5])\n",
    "    cursor.execute(insert_statment)\n",
    "connection.commit()\n",
    "connection.close()"
   ]
  },
  {
   "cell_type": "code",
   "execution_count": null,
   "metadata": {},
   "outputs": [],
   "source": [
    "connection = pymssql.connect(cnx['host'], cnx['username'], cnx['password'], cnx['db'])\n",
    "cursor = connection.cursor()\n",
    "query = \"SELECT * FROM classroom\"\n",
    "cursor.execute(query)\n",
    "result = cursor.fetchall()\n",
    "\n",
    "for row in result:\n",
    "    print(row)\n",
    "\n",
    "connection.close()"
   ]
  }
 ],
 "metadata": {
  "kernelspec": {
   "display_name": "Python 3",
   "language": "python",
   "name": "python3"
  },
  "language_info": {
   "codemirror_mode": {
    "name": "ipython",
    "version": 3
   },
   "file_extension": ".py",
   "mimetype": "text/x-python",
   "name": "python",
   "nbconvert_exporter": "python",
   "pygments_lexer": "ipython3",
   "version": "3.7.6"
  }
 },
 "nbformat": 4,
 "nbformat_minor": 2
}
